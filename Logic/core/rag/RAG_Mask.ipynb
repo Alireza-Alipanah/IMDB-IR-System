{
  "cells": [
    {
      "cell_type": "markdown",
      "metadata": {
        "id": "31mZtjcn6LK3"
      },
      "source": [
        "# RAG"
      ]
    },
    {
      "cell_type": "markdown",
      "metadata": {
        "id": "Cn2b558z6LK6"
      },
      "source": [
        "## Requirements"
      ]
    },
    {
      "cell_type": "code",
      "execution_count": 1,
      "metadata": {
        "id": "D7qkZVjtPtCt"
      },
      "outputs": [],
      "source": [
        "%%capture\n",
        "!pip install transformers accelerate bitsandbytes langchain langchain-community sentence-transformers faiss-gpu pandas gdown"
      ]
    },
    {
      "cell_type": "markdown",
      "metadata": {
        "id": "xbRsdHOC6LK8"
      },
      "source": [
        "## Dataset"
      ]
    },
    {
      "cell_type": "code",
      "execution_count": 2,
      "metadata": {
        "id": "KU3LtV3zPtCu",
        "colab": {
          "base_uri": "https://localhost:8080/"
        },
        "outputId": "b69e28b4-f31b-4d6a-880c-dd25505f45f4"
      },
      "outputs": [
        {
          "output_type": "stream",
          "name": "stdout",
          "text": [
            "Downloading...\n",
            "From (original): https://drive.google.com/uc?id=1Lq2zVJlN_B4kUAu4VafQ4jXMIQiAR9vI\n",
            "From (redirected): https://drive.google.com/uc?id=1Lq2zVJlN_B4kUAu4VafQ4jXMIQiAR9vI&confirm=t&uuid=ea41d9a3-28c8-4269-958e-264e987b7278\n",
            "To: /content/IMDB_crawled.json\n",
            "100% 292M/292M [00:02<00:00, 134MB/s]\n"
          ]
        }
      ],
      "source": [
        "!gdown --fuzzy https://drive.google.com/file/d/1Lq2zVJlN_B4kUAu4VafQ4jXMIQiAR9vI/view?usp=sharing"
      ]
    },
    {
      "cell_type": "markdown",
      "metadata": {
        "id": "9UKEgXWL6LK-"
      },
      "source": [
        "## Config"
      ]
    },
    {
      "cell_type": "code",
      "execution_count": 3,
      "metadata": {
        "id": "MUqmeYExPtCv"
      },
      "outputs": [],
      "source": [
        "class Config:\n",
        "    EMBEDDING_MODEL_NAME=\"thenlper/gte-base\"\n",
        "    LLM_MODEL_NAME=\"HuggingFaceH4/zephyr-7b-beta\"\n",
        "    K = 5 # top K retrieval"
      ]
    },
    {
      "cell_type": "markdown",
      "metadata": {
        "id": "nT_VoOdV6LK_"
      },
      "source": [
        "## Preprocessing"
      ]
    },
    {
      "cell_type": "code",
      "execution_count": 4,
      "metadata": {
        "id": "sjdAj0mnPtCv"
      },
      "outputs": [],
      "source": [
        "import pandas as pd\n",
        "\n",
        "df = pd.read_json('IMDB_crawled.json')"
      ]
    },
    {
      "cell_type": "code",
      "execution_count": 5,
      "metadata": {
        "id": "jYJlIaTWPtCw"
      },
      "outputs": [],
      "source": [
        "import os\n",
        "\n",
        "os.makedirs('data', exist_ok=True)\n",
        "\n",
        "# preprocess your data and only store the needed data as the context window for embedding model is limited\n",
        "def preprocess_data(df):\n",
        "    df = df[['title', 'first_page_summary', 'summaries', 'genres']]\n",
        "    df = df.dropna()\n",
        "    df['summaries'] = df['summaries'].apply(lambda x: x[0])\n",
        "    df = df.astype(str)\n",
        "\n",
        "    df = df.fillna('')\n",
        "    df['combined_text'] = 'title: ' + df['title'] + ' first_page_summaries: ' + \\\n",
        "     df['first_page_summary'] + ' summaries: ' + df['summaries'][0] + ' genres: ' + df['genres']\n",
        "    df = df[['combined_text']]\n",
        "\n",
        "    return df\n",
        "\n",
        "df = preprocess_data(df)\n",
        "\n",
        "df.to_csv('data/imdb.csv', index=False)"
      ]
    },
    {
      "cell_type": "markdown",
      "metadata": {
        "id": "qLUSYSFF6LLA"
      },
      "source": [
        "## Vectorizer"
      ]
    },
    {
      "cell_type": "markdown",
      "metadata": {
        "id": "prEbGjGD6LLB"
      },
      "source": [
        "load the CSV file and vectorize the rows using HuggingFaceEmbeddings.\n",
        "Store the results using FAISS vectorstore.\n",
        "Save the vectorestore in a pickle file for future usages."
      ]
    },
    {
      "cell_type": "code",
      "source": [
        "import pickle\n",
        "\n",
        "from langchain.document_loaders.csv_loader import CSVLoader\n",
        "from langchain.vectorstores.utils import DistanceStrategy\n",
        "from langchain.vectorstores.faiss import FAISS\n",
        "\n",
        "from langchain_community.embeddings import HuggingFaceEmbeddings"
      ],
      "metadata": {
        "id": "a4cb5OYbOh8x"
      },
      "execution_count": 6,
      "outputs": []
    },
    {
      "cell_type": "code",
      "execution_count": 7,
      "metadata": {
        "id": "-WafXxVaPtCw",
        "colab": {
          "base_uri": "https://localhost:8080/"
        },
        "outputId": "a67b1c78-b2f1-4dc4-deb6-b2395cffb863"
      },
      "outputs": [
        {
          "output_type": "stream",
          "name": "stderr",
          "text": [
            "/usr/local/lib/python3.10/dist-packages/langchain_core/_api/deprecation.py:139: LangChainDeprecationWarning: The class `HuggingFaceEmbeddings` was deprecated in LangChain 0.2.2 and will be removed in 0.3.0. An updated version of the class exists in the langchain-huggingface package and should be used instead. To use it run `pip install -U langchain-huggingface` and import as `from langchain_huggingface import HuggingFaceEmbeddings`.\n",
            "  warn_deprecated(\n",
            "/usr/local/lib/python3.10/dist-packages/sentence_transformers/cross_encoder/CrossEncoder.py:11: TqdmExperimentalWarning: Using `tqdm.autonotebook.tqdm` in notebook mode. Use `tqdm.tqdm` instead to force console mode (e.g. in jupyter console)\n",
            "  from tqdm.autonotebook import tqdm, trange\n",
            "/usr/local/lib/python3.10/dist-packages/huggingface_hub/utils/_token.py:89: UserWarning: \n",
            "The secret `HF_TOKEN` does not exist in your Colab secrets.\n",
            "To authenticate with the Hugging Face Hub, create a token in your settings tab (https://huggingface.co/settings/tokens), set it as secret in your Google Colab and restart your session.\n",
            "You will be able to reuse this secret in all of your notebooks.\n",
            "Please note that authentication is recommended but still optional to access public models or datasets.\n",
            "  warnings.warn(\n",
            "/usr/local/lib/python3.10/dist-packages/huggingface_hub/file_download.py:1132: FutureWarning: `resume_download` is deprecated and will be removed in version 1.0.0. Downloads always resume when possible. If you want to force a new download, use `force_download=True`.\n",
            "  warnings.warn(\n"
          ]
        }
      ],
      "source": [
        "# load the csv\n",
        "loader = CSVLoader(file_path='data/imdb.csv')\n",
        "documents = loader.load()\n",
        "\n",
        "# load the embeddings model\n",
        "embeddings_model = HuggingFaceEmbeddings(model_name=Config.EMBEDDING_MODEL_NAME)\n",
        "\n",
        "# save embed the documents using the model in a vectorstore\n",
        "vectorstore = FAISS.from_documents(documents, embeddings_model)\n",
        "\n",
        "with open(\"data/vectorstore.pkl\", \"wb\") as f:\n",
        "    pickle.dump(vectorstore, f)"
      ]
    },
    {
      "cell_type": "markdown",
      "metadata": {
        "id": "9W9Z0-su6LLC"
      },
      "source": [
        "load the vectorstore as a retriever."
      ]
    },
    {
      "cell_type": "code",
      "execution_count": 8,
      "metadata": {
        "id": "sN1YgCMGPtCw"
      },
      "outputs": [],
      "source": [
        "with open(\"data/vectorstore.pkl\", \"rb\") as f:\n",
        "    vectorstore = pickle.load(f)\n",
        "\n",
        "# load the retriever from the vectorstore\n",
        "retriever = vectorstore.as_retriever(search_kwargs={\"k\": Config.K})"
      ]
    },
    {
      "cell_type": "markdown",
      "metadata": {
        "id": "mvJs7IKa6LLC"
      },
      "source": [
        "## LLM"
      ]
    },
    {
      "cell_type": "markdown",
      "metadata": {
        "id": "0H33BQJl6LLD"
      },
      "source": [
        "load the quantized LLM."
      ]
    },
    {
      "cell_type": "code",
      "execution_count": 9,
      "metadata": {
        "colab": {
          "base_uri": "https://localhost:8080/",
          "height": 104,
          "referenced_widgets": [
            "50d20bc7d25a40c5834f96cf276da2fe",
            "f3ad4d4f679043f7945aa8b650c92311",
            "ba361eabc90a447196b53c76c67db2fd",
            "a7a56c0c29a7495e93f0d8d4a6d1c863",
            "76d2f6be06344294b28a4a9b829966fb",
            "a5642b2712a344fcb3766db21326b7e8",
            "5c28b711275f430aaecf8f84c80a6fc4",
            "939755759a60458c9e59b2bd09fe2393",
            "dce56be0c0164b89a29ba9b0d3979ab8",
            "787c392af40144b19a43da087e1c2a71",
            "d3e867d52a104117a572ffb2011eea07"
          ]
        },
        "id": "JM1GYo6HR2MB",
        "outputId": "78da0b7c-d57f-42ee-e6c7-5238b12cccd6"
      },
      "outputs": [
        {
          "output_type": "display_data",
          "data": {
            "text/plain": [
              "Loading checkpoint shards:   0%|          | 0/8 [00:00<?, ?it/s]"
            ],
            "application/vnd.jupyter.widget-view+json": {
              "version_major": 2,
              "version_minor": 0,
              "model_id": "50d20bc7d25a40c5834f96cf276da2fe"
            }
          },
          "metadata": {}
        },
        {
          "output_type": "stream",
          "name": "stderr",
          "text": [
            "/usr/local/lib/python3.10/dist-packages/langchain_core/_api/deprecation.py:139: LangChainDeprecationWarning: The class `HuggingFacePipeline` was deprecated in LangChain 0.0.37 and will be removed in 0.3. An updated version of the class exists in the langchain-huggingface package and should be used instead. To use it run `pip install -U langchain-huggingface` and import as `from langchain_huggingface import HuggingFacePipeline`.\n",
            "  warn_deprecated(\n"
          ]
        }
      ],
      "source": [
        "import torch\n",
        "\n",
        "from transformers import AutoTokenizer, AutoModelForCausalLM, BitsAndBytesConfig\n",
        "from transformers import pipeline\n",
        "\n",
        "from langchain_community.llms.huggingface_pipeline import HuggingFacePipeline\n",
        "\n",
        "# load the quantization config\n",
        "bnb_config = BitsAndBytesConfig(\n",
        "    load_in_4bit=True,\n",
        "    bnb_4bit_use_double_quant=True,\n",
        "    bnb_4bit_quant_type=\"nf4\",\n",
        "    bnb_4bit_compute_dtype=torch.float16,\n",
        "    llm_int8_enable_fp32_cpu_offload=True,\n",
        ")\n",
        "\n",
        "\n",
        "model = AutoModelForCausalLM.from_pretrained(Config.LLM_MODEL_NAME, quantization_config=bnb_config, device_map=\"cuda:0\", torch_dtype=torch.float16)\n",
        "tokenizer = AutoTokenizer.from_pretrained(Config.LLM_MODEL_NAME)\n",
        "\n",
        "# init the pipeline\n",
        "READER_LLM = pipeline(\n",
        "    \"text-generation\",\n",
        "    model=model,\n",
        "    tokenizer=tokenizer,\n",
        "    max_new_tokens=64,\n",
        "    torch_dtype=torch.float16,\n",
        ")\n",
        "\n",
        "llm = HuggingFacePipeline(\n",
        "    pipeline=READER_LLM,\n",
        ")"
      ]
    },
    {
      "cell_type": "markdown",
      "metadata": {
        "id": "0XboLmVn6LLD"
      },
      "source": [
        "initialize the prompt template for the query chain. query chain is used to get a query from the chat history. you may change the prompt as you like to get better results."
      ]
    },
    {
      "cell_type": "code",
      "execution_count": 10,
      "metadata": {
        "id": "1eM1zuNUgMPq",
        "colab": {
          "base_uri": "https://localhost:8080/"
        },
        "outputId": "d88c257b-af4f-43d7-b2d8-febc2da090d9"
      },
      "outputs": [
        {
          "output_type": "stream",
          "name": "stderr",
          "text": [
            "/usr/local/lib/python3.10/dist-packages/langchain_core/_api/deprecation.py:139: LangChainDeprecationWarning: The class `LLMChain` was deprecated in LangChain 0.1.17 and will be removed in 1.0. Use RunnableSequence, e.g., `prompt | llm` instead.\n",
            "  warn_deprecated(\n"
          ]
        }
      ],
      "source": [
        "from langchain.prompts import PromptTemplate\n",
        "\n",
        "from langchain_core.output_parsers import StrOutputParser\n",
        "from langchain.chains import LLMChain\n",
        "\n",
        "class LoggerStrOutputParser(StrOutputParser):\n",
        "    def parse(self, text: str) -> str:\n",
        "        # process the LLM output\n",
        "        print(f\"QUERY: {text}\")\n",
        "        return text\n",
        "\n",
        "query_transform_prompt = PromptTemplate(\n",
        "    input_variables=[\"messages\"],\n",
        "    template=\"\"\"<|system|>You are a helpful assistant.\n",
        "{messages}\n",
        "<|user|>\n",
        "give me the search query about the above conversation.\n",
        "<|assistant|>\"\"\"\n",
        ")\n",
        "\n",
        "# init the query chain\n",
        "class LoggerStrOutputParser(StrOutputParser):\n",
        "    def parse(self, text: str) -> str:\n",
        "        # process the LLM output\n",
        "        print(f\"QUERY: {text}\")\n",
        "        return text\n",
        "\n",
        "query_transforming_retriever_chain = LLMChain(\n",
        "    llm=llm,\n",
        "    prompt=query_transform_prompt,\n",
        "    output_parser=LoggerStrOutputParser(),\n",
        "    verbose=True\n",
        ")"
      ]
    },
    {
      "cell_type": "markdown",
      "metadata": {
        "id": "fWPrG2Q86LLE"
      },
      "source": [
        "initialize the main retrieval chain that gives the resulting documents to LLM and gets the output back."
      ]
    },
    {
      "cell_type": "code",
      "execution_count": 11,
      "metadata": {
        "id": "KwMTLauLS7m0"
      },
      "outputs": [],
      "source": [
        "from langchain.chains.combine_documents import create_stuff_documents_chain\n",
        "\n",
        "from langchain_core.runnables import RunnablePassthrough\n",
        "\n",
        "prompt = PromptTemplate(\n",
        "    input_variables=[\"context\", \"messages\"],\n",
        "    template=\"\"\"<|system|>You are a helpful assistant.\n",
        "\n",
        "Here are the movies you MUST choose from:\n",
        "\n",
        "{context}\n",
        "-----------------\n",
        "{messages}\n",
        "<|assistant|>\"\"\")\n",
        "\n",
        "# init the retriver chain\n",
        "document_chain = create_stuff_documents_chain(llm, prompt)\n",
        "\n",
        "retrieval_chain = (\n",
        "    {\"context\": retriever, \"messages\": RunnablePassthrough()}\n",
        "    | document_chain\n",
        "    | StrOutputParser()\n",
        ")"
      ]
    },
    {
      "cell_type": "markdown",
      "metadata": {
        "id": "dRdJYeJd6LLF"
      },
      "source": [
        "write the conversation helper class for easier testing."
      ]
    },
    {
      "cell_type": "code",
      "execution_count": 12,
      "metadata": {
        "id": "zhttNbN0U0WF"
      },
      "outputs": [],
      "source": [
        "class Conversation:\n",
        "    def __init__(self):\n",
        "        self.messages = []\n",
        "\n",
        "    def add_assistant_message(self, message):\n",
        "        self.messages.append(('assistant', message))\n",
        "\n",
        "    def add_user_message(self, message):\n",
        "        self.messages.append(('user', message))\n",
        "\n",
        "    def get_messages(self):\n",
        "        # concatenate the messages with the roles in the instruction format\n",
        "        formatted_messages = []\n",
        "        for role, content in self.messages:\n",
        "            formatted_messages.append(f\"<|{role}|>\\n{content}\")\n",
        "        return \"\\n\".join(formatted_messages)\n",
        "\n",
        "    def chat(self, message):\n",
        "        self.add_user_message(message)\n",
        "        messages = self.get_messages()\n",
        "        # invoke the chain\n",
        "        query = query_transforming_retriever_chain.run({\"messages\": messages})\n",
        "        response = retrieval_chain.invoke(query)\n",
        "        self.add_assistant_message(response)\n",
        "        return response"
      ]
    },
    {
      "cell_type": "markdown",
      "metadata": {
        "id": "mGSXGFLg6LLG"
      },
      "source": [
        "## Test"
      ]
    },
    {
      "cell_type": "markdown",
      "metadata": {
        "id": "apJTnrY_6LLG"
      },
      "source": [
        "talk with the RAG to see how good it performs."
      ]
    },
    {
      "cell_type": "code",
      "execution_count": 13,
      "metadata": {
        "colab": {
          "base_uri": "https://localhost:8080/"
        },
        "id": "g8XV3HvhVTNu",
        "outputId": "5ca0ecc9-6c73-47f1-d979-72fea4bf75e7"
      },
      "outputs": [
        {
          "output_type": "stream",
          "name": "stderr",
          "text": [
            "/usr/local/lib/python3.10/dist-packages/langchain_core/_api/deprecation.py:139: LangChainDeprecationWarning: The method `Chain.run` was deprecated in langchain 0.1.0 and will be removed in 0.3.0. Use invoke instead.\n",
            "  warn_deprecated(\n"
          ]
        },
        {
          "output_type": "stream",
          "name": "stdout",
          "text": [
            "\n",
            "\n",
            "\u001b[1m> Entering new LLMChain chain...\u001b[0m\n",
            "Prompt after formatting:\n",
            "\u001b[32;1m\u001b[1;3m<|system|>You are a helpful assistant.\n",
            "<|user|>\n",
            "give me a cool gangster movie\n",
            "<|user|>\n",
            "give me the search query about the above conversation.\n",
            "<|assistant|>\u001b[0m\n",
            "QUERY: <|system|>You are a helpful assistant.\n",
            "<|user|>\n",
            "give me a cool gangster movie\n",
            "<|user|>\n",
            "give me the search query about the above conversation.\n",
            "<|assistant|>\n",
            "\"recommend a cool gangster movie\" or \"suggest a gripping gangster film\" or \"what's a must-watch gangster movie?\" or \"what's the best gangster movie to watch right now?\" or \"what's a popular gangster movie that's worth\n",
            "\n",
            "\u001b[1m> Finished chain.\u001b[0m\n",
            "<|system|>You are a helpful assistant.\n",
            "\n",
            "Here are the movies you MUST choose from:\n",
            "\n",
            "combined_text: title: American Gangster first_page_summaries: Follows the lives of American gangsters. summaries: The early life and career of Vito Corleone in 1920s New York City is portrayed, while his son, Michael, expands and tightens his grip on the family crime syndicate. genres: ['Documentary']\n",
            "\n",
            "combined_text: title: American Gangster first_page_summaries: An outcast New York City cop is charged with bringing down Harlem drug lord Frank Lucas, whose real life inspired this partly biographical film. summaries: The early life and career of Vito Corleone in 1920s New York City is portrayed, while his son, Michael, expands and tightens his grip on the family crime syndicate. genres: ['Biography', 'Crime', 'Drama']\n",
            "\n",
            "combined_text: title: Jigarthanda first_page_summaries: An aspiring director targets a ruthless gangster because he wants to make a violent gangster film. His discreet attempts to research the gangster fail miserably. Finally when he gets caught ... Read all summaries: The early life and career of Vito Corleone in 1920s New York City is portrayed, while his son, Michael, expands and tightens his grip on the family crime syndicate. genres: ['Action', 'Comedy', 'Crime']\n",
            "\n",
            "combined_text: title: Scarface first_page_summaries: An ambitious and nearly insane violent gangster climbs the ladder of success in the mob, but his weaknesses prove to be his downfall. summaries: The early life and career of Vito Corleone in 1920s New York City is portrayed, while his son, Michael, expands and tightens his grip on the family crime syndicate. genres: ['Action', 'Crime', 'Drama']\n",
            "\n",
            "combined_text: title: The Godfather Saga first_page_summaries: The Godfather (1972) and The Godfather Part II (1974) were re-edited together in chronological order with additional footage added. summaries: The early life and career of Vito Corleone in 1920s New York City is portrayed, while his son, Michael, expands and tightens his grip on the family crime syndicate. genres: ['Crime', 'Drama', 'Thriller']\n",
            "-----------------\n",
            "<|system|>You are a helpful assistant.\n",
            "<|user|>\n",
            "give me a cool gangster movie\n",
            "<|user|>\n",
            "give me the search query about the above conversation.\n",
            "<|assistant|>\n",
            "\"recommend a cool gangster movie\" or \"suggest a gripping gangster film\" or \"what's a must-watch gangster movie?\" or \"what's the best gangster movie to watch right now?\" or \"what's a popular gangster movie that's worth\n",
            "<|assistant|> watching?\" or \"what's a recent gangster movie that's getting rave reviews?\" or \"what's a classic gangster movie that I should add to my watchlist?\" or \"what's a gangster movie with a unique twist or storyline?\" or \"what's a gangster\n"
          ]
        }
      ],
      "source": [
        "c = Conversation()\n",
        "A = c.chat('give me a cool gangster movie')\n",
        "print(A)"
      ]
    },
    {
      "cell_type": "code",
      "execution_count": 14,
      "metadata": {
        "colab": {
          "base_uri": "https://localhost:8080/"
        },
        "id": "cC0Sz0Nbl_Zr",
        "outputId": "c2117950-5b00-4fee-dd7a-d7e850684aca"
      },
      "outputs": [
        {
          "output_type": "stream",
          "name": "stdout",
          "text": [
            "\n",
            "\n",
            "\u001b[1m> Entering new LLMChain chain...\u001b[0m\n",
            "Prompt after formatting:\n",
            "\u001b[32;1m\u001b[1;3m<|system|>You are a helpful assistant.\n",
            "<|user|>\n",
            "give me a cool gangster movie\n",
            "<|assistant|>\n",
            "<|system|>You are a helpful assistant.\n",
            "\n",
            "Here are the movies you MUST choose from:\n",
            "\n",
            "combined_text: title: American Gangster first_page_summaries: Follows the lives of American gangsters. summaries: The early life and career of Vito Corleone in 1920s New York City is portrayed, while his son, Michael, expands and tightens his grip on the family crime syndicate. genres: ['Documentary']\n",
            "\n",
            "combined_text: title: American Gangster first_page_summaries: An outcast New York City cop is charged with bringing down Harlem drug lord Frank Lucas, whose real life inspired this partly biographical film. summaries: The early life and career of Vito Corleone in 1920s New York City is portrayed, while his son, Michael, expands and tightens his grip on the family crime syndicate. genres: ['Biography', 'Crime', 'Drama']\n",
            "\n",
            "combined_text: title: Jigarthanda first_page_summaries: An aspiring director targets a ruthless gangster because he wants to make a violent gangster film. His discreet attempts to research the gangster fail miserably. Finally when he gets caught ... Read all summaries: The early life and career of Vito Corleone in 1920s New York City is portrayed, while his son, Michael, expands and tightens his grip on the family crime syndicate. genres: ['Action', 'Comedy', 'Crime']\n",
            "\n",
            "combined_text: title: Scarface first_page_summaries: An ambitious and nearly insane violent gangster climbs the ladder of success in the mob, but his weaknesses prove to be his downfall. summaries: The early life and career of Vito Corleone in 1920s New York City is portrayed, while his son, Michael, expands and tightens his grip on the family crime syndicate. genres: ['Action', 'Crime', 'Drama']\n",
            "\n",
            "combined_text: title: The Godfather Saga first_page_summaries: The Godfather (1972) and The Godfather Part II (1974) were re-edited together in chronological order with additional footage added. summaries: The early life and career of Vito Corleone in 1920s New York City is portrayed, while his son, Michael, expands and tightens his grip on the family crime syndicate. genres: ['Crime', 'Drama', 'Thriller']\n",
            "-----------------\n",
            "<|system|>You are a helpful assistant.\n",
            "<|user|>\n",
            "give me a cool gangster movie\n",
            "<|user|>\n",
            "give me the search query about the above conversation.\n",
            "<|assistant|>\n",
            "\"recommend a cool gangster movie\" or \"suggest a gripping gangster film\" or \"what's a must-watch gangster movie?\" or \"what's the best gangster movie to watch right now?\" or \"what's a popular gangster movie that's worth\n",
            "<|assistant|> watching?\" or \"what's a recent gangster movie that's getting rave reviews?\" or \"what's a classic gangster movie that I should add to my watchlist?\" or \"what's a gangster movie with a unique twist or storyline?\" or \"what's a gangster\n",
            "<|user|>\n",
            "give me a newer one\n",
            "<|user|>\n",
            "give me the search query about the above conversation.\n",
            "<|assistant|>\u001b[0m\n",
            "QUERY: <|system|>You are a helpful assistant.\n",
            "<|user|>\n",
            "give me a cool gangster movie\n",
            "<|assistant|>\n",
            "<|system|>You are a helpful assistant.\n",
            "\n",
            "Here are the movies you MUST choose from:\n",
            "\n",
            "combined_text: title: American Gangster first_page_summaries: Follows the lives of American gangsters. summaries: The early life and career of Vito Corleone in 1920s New York City is portrayed, while his son, Michael, expands and tightens his grip on the family crime syndicate. genres: ['Documentary']\n",
            "\n",
            "combined_text: title: American Gangster first_page_summaries: An outcast New York City cop is charged with bringing down Harlem drug lord Frank Lucas, whose real life inspired this partly biographical film. summaries: The early life and career of Vito Corleone in 1920s New York City is portrayed, while his son, Michael, expands and tightens his grip on the family crime syndicate. genres: ['Biography', 'Crime', 'Drama']\n",
            "\n",
            "combined_text: title: Jigarthanda first_page_summaries: An aspiring director targets a ruthless gangster because he wants to make a violent gangster film. His discreet attempts to research the gangster fail miserably. Finally when he gets caught ... Read all summaries: The early life and career of Vito Corleone in 1920s New York City is portrayed, while his son, Michael, expands and tightens his grip on the family crime syndicate. genres: ['Action', 'Comedy', 'Crime']\n",
            "\n",
            "combined_text: title: Scarface first_page_summaries: An ambitious and nearly insane violent gangster climbs the ladder of success in the mob, but his weaknesses prove to be his downfall. summaries: The early life and career of Vito Corleone in 1920s New York City is portrayed, while his son, Michael, expands and tightens his grip on the family crime syndicate. genres: ['Action', 'Crime', 'Drama']\n",
            "\n",
            "combined_text: title: The Godfather Saga first_page_summaries: The Godfather (1972) and The Godfather Part II (1974) were re-edited together in chronological order with additional footage added. summaries: The early life and career of Vito Corleone in 1920s New York City is portrayed, while his son, Michael, expands and tightens his grip on the family crime syndicate. genres: ['Crime', 'Drama', 'Thriller']\n",
            "-----------------\n",
            "<|system|>You are a helpful assistant.\n",
            "<|user|>\n",
            "give me a cool gangster movie\n",
            "<|user|>\n",
            "give me the search query about the above conversation.\n",
            "<|assistant|>\n",
            "\"recommend a cool gangster movie\" or \"suggest a gripping gangster film\" or \"what's a must-watch gangster movie?\" or \"what's the best gangster movie to watch right now?\" or \"what's a popular gangster movie that's worth\n",
            "<|assistant|> watching?\" or \"what's a recent gangster movie that's getting rave reviews?\" or \"what's a classic gangster movie that I should add to my watchlist?\" or \"what's a gangster movie with a unique twist or storyline?\" or \"what's a gangster\n",
            "<|user|>\n",
            "give me a newer one\n",
            "<|user|>\n",
            "give me the search query about the above conversation.\n",
            "<|assistant|>\n",
            "\"recommend a newer cool gangster movie\" or \"suggest a recent gripping gangster film\" or \"what's a new must-watch gangster movie?\" or \"what's the best newer gangster movie to watch right now?\" or \"what's a popular newer gangster\n",
            "\n",
            "\u001b[1m> Finished chain.\u001b[0m\n",
            "<|system|>You are a helpful assistant.\n",
            "\n",
            "Here are the movies you MUST choose from:\n",
            "\n",
            "combined_text: title: The Godfather Saga first_page_summaries: The Godfather (1972) and The Godfather Part II (1974) were re-edited together in chronological order with additional footage added. summaries: The early life and career of Vito Corleone in 1920s New York City is portrayed, while his son, Michael, expands and tightens his grip on the family crime syndicate. genres: ['Crime', 'Drama', 'Thriller']\n",
            "\n",
            "combined_text: title: The Godfather Trilogy: 1901-1980 first_page_summaries: The multigenerational saga of the rise and fall of the Corleone crime family. summaries: The early life and career of Vito Corleone in 1920s New York City is portrayed, while his son, Michael, expands and tightens his grip on the family crime syndicate. genres: ['Crime', 'Drama', 'Thriller']\n",
            "\n",
            "combined_text: title: The Godfather Part III first_page_summaries: Follows Michael Corleone, now in his 60s, as he seeks to free his family from crime and find a suitable successor to his empire. summaries: The early life and career of Vito Corleone in 1920s New York City is portrayed, while his son, Michael, expands and tightens his grip on the family crime syndicate. genres: ['Crime', 'Drama']\n",
            "\n",
            "combined_text: title: The Godfather Part II first_page_summaries: The early life and career of Vito Corleone in 1920s New York City is portrayed, while his son, Michael, expands and tightens his grip on the family crime syndicate. summaries: The early life and career of Vito Corleone in 1920s New York City is portrayed, while his son, Michael, expands and tightens his grip on the family crime syndicate. genres: ['Crime', 'Drama']\n",
            "\n",
            "combined_text: title: The Godfather Legacy first_page_summaries: THE GODFATHER LEGACY goes deep inside Francis Ford Coppola's epic saga about the Corleone crime family and reveals how the Academy Award-winning film and its sequels became one of the most a... Read all summaries: The early life and career of Vito Corleone in 1920s New York City is portrayed, while his son, Michael, expands and tightens his grip on the family crime syndicate. genres: ['Documentary']\n",
            "-----------------\n",
            "<|system|>You are a helpful assistant.\n",
            "<|user|>\n",
            "give me a cool gangster movie\n",
            "<|assistant|>\n",
            "<|system|>You are a helpful assistant.\n",
            "\n",
            "Here are the movies you MUST choose from:\n",
            "\n",
            "combined_text: title: American Gangster first_page_summaries: Follows the lives of American gangsters. summaries: The early life and career of Vito Corleone in 1920s New York City is portrayed, while his son, Michael, expands and tightens his grip on the family crime syndicate. genres: ['Documentary']\n",
            "\n",
            "combined_text: title: American Gangster first_page_summaries: An outcast New York City cop is charged with bringing down Harlem drug lord Frank Lucas, whose real life inspired this partly biographical film. summaries: The early life and career of Vito Corleone in 1920s New York City is portrayed, while his son, Michael, expands and tightens his grip on the family crime syndicate. genres: ['Biography', 'Crime', 'Drama']\n",
            "\n",
            "combined_text: title: Jigarthanda first_page_summaries: An aspiring director targets a ruthless gangster because he wants to make a violent gangster film. His discreet attempts to research the gangster fail miserably. Finally when he gets caught ... Read all summaries: The early life and career of Vito Corleone in 1920s New York City is portrayed, while his son, Michael, expands and tightens his grip on the family crime syndicate. genres: ['Action', 'Comedy', 'Crime']\n",
            "\n",
            "combined_text: title: Scarface first_page_summaries: An ambitious and nearly insane violent gangster climbs the ladder of success in the mob, but his weaknesses prove to be his downfall. summaries: The early life and career of Vito Corleone in 1920s New York City is portrayed, while his son, Michael, expands and tightens his grip on the family crime syndicate. genres: ['Action', 'Crime', 'Drama']\n",
            "\n",
            "combined_text: title: The Godfather Saga first_page_summaries: The Godfather (1972) and The Godfather Part II (1974) were re-edited together in chronological order with additional footage added. summaries: The early life and career of Vito Corleone in 1920s New York City is portrayed, while his son, Michael, expands and tightens his grip on the family crime syndicate. genres: ['Crime', 'Drama', 'Thriller']\n",
            "-----------------\n",
            "<|system|>You are a helpful assistant.\n",
            "<|user|>\n",
            "give me a cool gangster movie\n",
            "<|user|>\n",
            "give me the search query about the above conversation.\n",
            "<|assistant|>\n",
            "\"recommend a cool gangster movie\" or \"suggest a gripping gangster film\" or \"what's a must-watch gangster movie?\" or \"what's the best gangster movie to watch right now?\" or \"what's a popular gangster movie that's worth\n",
            "<|assistant|> watching?\" or \"what's a recent gangster movie that's getting rave reviews?\" or \"what's a classic gangster movie that I should add to my watchlist?\" or \"what's a gangster movie with a unique twist or storyline?\" or \"what's a gangster\n",
            "<|user|>\n",
            "give me a newer one\n",
            "<|user|>\n",
            "give me the search query about the above conversation.\n",
            "<|assistant|>\n",
            "\"recommend a newer cool gangster movie\" or \"suggest a recent gripping gangster film\" or \"what's a new must-watch gangster movie?\" or \"what's the best newer gangster movie to watch right now?\" or \"what's a popular newer gangster\n",
            "<|assistant|> movie that's worth watching?\" or \"what's a newer gangster movie that's getting rave reviews?\" or \"what's a newer classic gangster movie that I should add to my watchlist?\" or \"what's a newer gangster movie with a unique twist or storyline?\"\n"
          ]
        }
      ],
      "source": [
        "A = c.chat('give me a newer one')\n",
        "print(A)"
      ]
    }
  ],
  "metadata": {
    "accelerator": "GPU",
    "colab": {
      "gpuType": "T4",
      "provenance": []
    },
    "kernelspec": {
      "display_name": "Python 3",
      "name": "python3"
    },
    "language_info": {
      "codemirror_mode": {
        "name": "ipython",
        "version": 3
      },
      "file_extension": ".py",
      "mimetype": "text/x-python",
      "name": "python",
      "nbconvert_exporter": "python",
      "pygments_lexer": "ipython3",
      "version": "3.10.12"
    },
    "widgets": {
      "application/vnd.jupyter.widget-state+json": {
        "50d20bc7d25a40c5834f96cf276da2fe": {
          "model_module": "@jupyter-widgets/controls",
          "model_name": "HBoxModel",
          "model_module_version": "1.5.0",
          "state": {
            "_dom_classes": [],
            "_model_module": "@jupyter-widgets/controls",
            "_model_module_version": "1.5.0",
            "_model_name": "HBoxModel",
            "_view_count": null,
            "_view_module": "@jupyter-widgets/controls",
            "_view_module_version": "1.5.0",
            "_view_name": "HBoxView",
            "box_style": "",
            "children": [
              "IPY_MODEL_f3ad4d4f679043f7945aa8b650c92311",
              "IPY_MODEL_ba361eabc90a447196b53c76c67db2fd",
              "IPY_MODEL_a7a56c0c29a7495e93f0d8d4a6d1c863"
            ],
            "layout": "IPY_MODEL_76d2f6be06344294b28a4a9b829966fb"
          }
        },
        "f3ad4d4f679043f7945aa8b650c92311": {
          "model_module": "@jupyter-widgets/controls",
          "model_name": "HTMLModel",
          "model_module_version": "1.5.0",
          "state": {
            "_dom_classes": [],
            "_model_module": "@jupyter-widgets/controls",
            "_model_module_version": "1.5.0",
            "_model_name": "HTMLModel",
            "_view_count": null,
            "_view_module": "@jupyter-widgets/controls",
            "_view_module_version": "1.5.0",
            "_view_name": "HTMLView",
            "description": "",
            "description_tooltip": null,
            "layout": "IPY_MODEL_a5642b2712a344fcb3766db21326b7e8",
            "placeholder": "​",
            "style": "IPY_MODEL_5c28b711275f430aaecf8f84c80a6fc4",
            "value": "Loading checkpoint shards: 100%"
          }
        },
        "ba361eabc90a447196b53c76c67db2fd": {
          "model_module": "@jupyter-widgets/controls",
          "model_name": "FloatProgressModel",
          "model_module_version": "1.5.0",
          "state": {
            "_dom_classes": [],
            "_model_module": "@jupyter-widgets/controls",
            "_model_module_version": "1.5.0",
            "_model_name": "FloatProgressModel",
            "_view_count": null,
            "_view_module": "@jupyter-widgets/controls",
            "_view_module_version": "1.5.0",
            "_view_name": "ProgressView",
            "bar_style": "success",
            "description": "",
            "description_tooltip": null,
            "layout": "IPY_MODEL_939755759a60458c9e59b2bd09fe2393",
            "max": 8,
            "min": 0,
            "orientation": "horizontal",
            "style": "IPY_MODEL_dce56be0c0164b89a29ba9b0d3979ab8",
            "value": 8
          }
        },
        "a7a56c0c29a7495e93f0d8d4a6d1c863": {
          "model_module": "@jupyter-widgets/controls",
          "model_name": "HTMLModel",
          "model_module_version": "1.5.0",
          "state": {
            "_dom_classes": [],
            "_model_module": "@jupyter-widgets/controls",
            "_model_module_version": "1.5.0",
            "_model_name": "HTMLModel",
            "_view_count": null,
            "_view_module": "@jupyter-widgets/controls",
            "_view_module_version": "1.5.0",
            "_view_name": "HTMLView",
            "description": "",
            "description_tooltip": null,
            "layout": "IPY_MODEL_787c392af40144b19a43da087e1c2a71",
            "placeholder": "​",
            "style": "IPY_MODEL_d3e867d52a104117a572ffb2011eea07",
            "value": " 8/8 [01:21&lt;00:00,  9.07s/it]"
          }
        },
        "76d2f6be06344294b28a4a9b829966fb": {
          "model_module": "@jupyter-widgets/base",
          "model_name": "LayoutModel",
          "model_module_version": "1.2.0",
          "state": {
            "_model_module": "@jupyter-widgets/base",
            "_model_module_version": "1.2.0",
            "_model_name": "LayoutModel",
            "_view_count": null,
            "_view_module": "@jupyter-widgets/base",
            "_view_module_version": "1.2.0",
            "_view_name": "LayoutView",
            "align_content": null,
            "align_items": null,
            "align_self": null,
            "border": null,
            "bottom": null,
            "display": null,
            "flex": null,
            "flex_flow": null,
            "grid_area": null,
            "grid_auto_columns": null,
            "grid_auto_flow": null,
            "grid_auto_rows": null,
            "grid_column": null,
            "grid_gap": null,
            "grid_row": null,
            "grid_template_areas": null,
            "grid_template_columns": null,
            "grid_template_rows": null,
            "height": null,
            "justify_content": null,
            "justify_items": null,
            "left": null,
            "margin": null,
            "max_height": null,
            "max_width": null,
            "min_height": null,
            "min_width": null,
            "object_fit": null,
            "object_position": null,
            "order": null,
            "overflow": null,
            "overflow_x": null,
            "overflow_y": null,
            "padding": null,
            "right": null,
            "top": null,
            "visibility": null,
            "width": null
          }
        },
        "a5642b2712a344fcb3766db21326b7e8": {
          "model_module": "@jupyter-widgets/base",
          "model_name": "LayoutModel",
          "model_module_version": "1.2.0",
          "state": {
            "_model_module": "@jupyter-widgets/base",
            "_model_module_version": "1.2.0",
            "_model_name": "LayoutModel",
            "_view_count": null,
            "_view_module": "@jupyter-widgets/base",
            "_view_module_version": "1.2.0",
            "_view_name": "LayoutView",
            "align_content": null,
            "align_items": null,
            "align_self": null,
            "border": null,
            "bottom": null,
            "display": null,
            "flex": null,
            "flex_flow": null,
            "grid_area": null,
            "grid_auto_columns": null,
            "grid_auto_flow": null,
            "grid_auto_rows": null,
            "grid_column": null,
            "grid_gap": null,
            "grid_row": null,
            "grid_template_areas": null,
            "grid_template_columns": null,
            "grid_template_rows": null,
            "height": null,
            "justify_content": null,
            "justify_items": null,
            "left": null,
            "margin": null,
            "max_height": null,
            "max_width": null,
            "min_height": null,
            "min_width": null,
            "object_fit": null,
            "object_position": null,
            "order": null,
            "overflow": null,
            "overflow_x": null,
            "overflow_y": null,
            "padding": null,
            "right": null,
            "top": null,
            "visibility": null,
            "width": null
          }
        },
        "5c28b711275f430aaecf8f84c80a6fc4": {
          "model_module": "@jupyter-widgets/controls",
          "model_name": "DescriptionStyleModel",
          "model_module_version": "1.5.0",
          "state": {
            "_model_module": "@jupyter-widgets/controls",
            "_model_module_version": "1.5.0",
            "_model_name": "DescriptionStyleModel",
            "_view_count": null,
            "_view_module": "@jupyter-widgets/base",
            "_view_module_version": "1.2.0",
            "_view_name": "StyleView",
            "description_width": ""
          }
        },
        "939755759a60458c9e59b2bd09fe2393": {
          "model_module": "@jupyter-widgets/base",
          "model_name": "LayoutModel",
          "model_module_version": "1.2.0",
          "state": {
            "_model_module": "@jupyter-widgets/base",
            "_model_module_version": "1.2.0",
            "_model_name": "LayoutModel",
            "_view_count": null,
            "_view_module": "@jupyter-widgets/base",
            "_view_module_version": "1.2.0",
            "_view_name": "LayoutView",
            "align_content": null,
            "align_items": null,
            "align_self": null,
            "border": null,
            "bottom": null,
            "display": null,
            "flex": null,
            "flex_flow": null,
            "grid_area": null,
            "grid_auto_columns": null,
            "grid_auto_flow": null,
            "grid_auto_rows": null,
            "grid_column": null,
            "grid_gap": null,
            "grid_row": null,
            "grid_template_areas": null,
            "grid_template_columns": null,
            "grid_template_rows": null,
            "height": null,
            "justify_content": null,
            "justify_items": null,
            "left": null,
            "margin": null,
            "max_height": null,
            "max_width": null,
            "min_height": null,
            "min_width": null,
            "object_fit": null,
            "object_position": null,
            "order": null,
            "overflow": null,
            "overflow_x": null,
            "overflow_y": null,
            "padding": null,
            "right": null,
            "top": null,
            "visibility": null,
            "width": null
          }
        },
        "dce56be0c0164b89a29ba9b0d3979ab8": {
          "model_module": "@jupyter-widgets/controls",
          "model_name": "ProgressStyleModel",
          "model_module_version": "1.5.0",
          "state": {
            "_model_module": "@jupyter-widgets/controls",
            "_model_module_version": "1.5.0",
            "_model_name": "ProgressStyleModel",
            "_view_count": null,
            "_view_module": "@jupyter-widgets/base",
            "_view_module_version": "1.2.0",
            "_view_name": "StyleView",
            "bar_color": null,
            "description_width": ""
          }
        },
        "787c392af40144b19a43da087e1c2a71": {
          "model_module": "@jupyter-widgets/base",
          "model_name": "LayoutModel",
          "model_module_version": "1.2.0",
          "state": {
            "_model_module": "@jupyter-widgets/base",
            "_model_module_version": "1.2.0",
            "_model_name": "LayoutModel",
            "_view_count": null,
            "_view_module": "@jupyter-widgets/base",
            "_view_module_version": "1.2.0",
            "_view_name": "LayoutView",
            "align_content": null,
            "align_items": null,
            "align_self": null,
            "border": null,
            "bottom": null,
            "display": null,
            "flex": null,
            "flex_flow": null,
            "grid_area": null,
            "grid_auto_columns": null,
            "grid_auto_flow": null,
            "grid_auto_rows": null,
            "grid_column": null,
            "grid_gap": null,
            "grid_row": null,
            "grid_template_areas": null,
            "grid_template_columns": null,
            "grid_template_rows": null,
            "height": null,
            "justify_content": null,
            "justify_items": null,
            "left": null,
            "margin": null,
            "max_height": null,
            "max_width": null,
            "min_height": null,
            "min_width": null,
            "object_fit": null,
            "object_position": null,
            "order": null,
            "overflow": null,
            "overflow_x": null,
            "overflow_y": null,
            "padding": null,
            "right": null,
            "top": null,
            "visibility": null,
            "width": null
          }
        },
        "d3e867d52a104117a572ffb2011eea07": {
          "model_module": "@jupyter-widgets/controls",
          "model_name": "DescriptionStyleModel",
          "model_module_version": "1.5.0",
          "state": {
            "_model_module": "@jupyter-widgets/controls",
            "_model_module_version": "1.5.0",
            "_model_name": "DescriptionStyleModel",
            "_view_count": null,
            "_view_module": "@jupyter-widgets/base",
            "_view_module_version": "1.2.0",
            "_view_name": "StyleView",
            "description_width": ""
          }
        }
      }
    }
  },
  "nbformat": 4,
  "nbformat_minor": 0
}